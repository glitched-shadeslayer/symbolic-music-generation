{
 "cells": [
  {
   "cell_type": "code",
   "execution_count": 1,
   "id": "b368f19a-4346-4234-b0c8-b2c7a387112f",
   "metadata": {
    "scrolled": true
   },
   "outputs": [
    {
     "name": "stdout",
     "output_type": "stream",
     "text": [
      "dict_keys(['test', 'train', 'valid'])\n"
     ]
    }
   ],
   "source": [
    "import torch\n",
    "import pickle\n",
    "import random\n",
    "import pretty_midi\n",
    "import numpy as np\n",
    "import torch.nn as nn\n",
    "from torch.utils.data import Dataset, DataLoader\n",
    "\n",
    "device = torch.device(\"cuda\" if torch.cuda.is_available() else \"cpu\")\n",
    "\n",
    "with open('JSB-Chorales-dataset/jsb-chorales-16th.pkl', 'rb') as p:\n",
    "    data = pickle.load(p, encoding=\"latin1\")\n",
    "\n",
    "print(data.keys())\n",
    "train_data = data['train']"
   ]
  },
  {
   "cell_type": "code",
   "execution_count": 2,
   "id": "c2fe788c-3255-485d-afbe-5f9c2cf1e8e3",
   "metadata": {},
   "outputs": [],
   "source": [
    "all_chords = set(ch for sequence in train_data for ch in sequence)\n",
    "\n",
    "#Dictionaries for chord to index and vice-version conversion\n",
    "chord_to_idx = {chord: idx for idx, chord in enumerate(sorted(all_chords))}\n",
    "idx_to_chord = {idx: chord for chord, idx in chord_to_idx.items()}\n",
    "vocab_size = len(chord_to_idx)\n",
    "\n",
    "tokenized_sequences = [\n",
    "    [chord_to_idx[chord] for chord in sequence]\n",
    "    for sequence in train_data\n",
    "]\n",
    "\n",
    "sequence_length = 32\n",
    "X = []\n",
    "y = []\n",
    "\n",
    "for seq in tokenized_sequences:\n",
    "    if len(seq) <= sequence_length:\n",
    "        continue\n",
    "    for i in range(len(seq) - sequence_length):\n",
    "        X.append(seq[i:i + sequence_length])\n",
    "        y.append(seq[i + sequence_length])\n",
    "\n",
    "#Converting to tensors\n",
    "X_tensor = torch.tensor(X, dtype=torch.long)\n",
    "y_tensor = torch.tensor(y, dtype=torch.long)"
   ]
  },
  {
   "cell_type": "code",
   "execution_count": 3,
   "id": "4f9805fb-6d4b-4ff9-b47c-8ff109ebc378",
   "metadata": {},
   "outputs": [],
   "source": [
    "class ChoraleDataset(Dataset):\n",
    "    def __init__(self, X, y):\n",
    "        self.X = torch.tensor(X, dtype=torch.long)\n",
    "        self.y = torch.tensor(y, dtype=torch.long)\n",
    "        \n",
    "    def __len__(self):\n",
    "        return len(self.X)\n",
    "    \n",
    "    def __getitem__(self, idx):\n",
    "        return self.X[idx], self.y[idx]\n",
    "\n",
    "batch_size = 32\n",
    "dataset = ChoraleDataset(X, y)\n",
    "dataloader = DataLoader(dataset, batch_size=batch_size, shuffle=True)\n",
    "\n",
    "class LSTMGenerator(nn.Module):\n",
    "    def __init__(self, vocab_size, embed_size=64, hidden_size=128, num_layers=1):\n",
    "        super().__init__()\n",
    "        self.embed = nn.Embedding(vocab_size, embed_size)\n",
    "        self.lstm = nn.LSTM(embed_size, hidden_size, num_layers, batch_first=True)\n",
    "        self.fc = nn.Linear(hidden_size, vocab_size)\n",
    "\n",
    "    def forward(self, x, hidden=None):\n",
    "        x = self.embed(x)\n",
    "        out, hidden = self.lstm(x, hidden)\n",
    "        \n",
    "        #Taking output from the last time step\n",
    "        out = self.fc(out[:, -1, :])  \n",
    "        return out, hidden"
   ]
  },
  {
   "cell_type": "code",
   "execution_count": 4,
   "id": "315e9498-3103-438d-9ced-5d2be369ec98",
   "metadata": {},
   "outputs": [
    {
     "name": "stdout",
     "output_type": "stream",
     "text": [
      "Epoch 1/20, Loss: 5.4419\n",
      "Epoch 2/20, Loss: 3.3209\n",
      "Epoch 3/20, Loss: 2.3771\n",
      "Epoch 4/20, Loss: 1.8243\n",
      "Epoch 5/20, Loss: 1.4818\n",
      "Epoch 6/20, Loss: 1.2526\n",
      "Epoch 7/20, Loss: 1.0860\n",
      "Epoch 8/20, Loss: 0.9544\n",
      "Epoch 9/20, Loss: 0.8467\n",
      "Epoch 10/20, Loss: 0.7592\n",
      "Epoch 11/20, Loss: 0.6874\n",
      "Epoch 12/20, Loss: 0.6221\n",
      "Epoch 13/20, Loss: 0.5711\n",
      "Epoch 14/20, Loss: 0.5238\n",
      "Epoch 15/20, Loss: 0.4834\n",
      "Epoch 16/20, Loss: 0.4458\n",
      "Epoch 17/20, Loss: 0.4209\n",
      "Epoch 18/20, Loss: 0.3892\n",
      "Epoch 19/20, Loss: 0.3666\n",
      "Epoch 20/20, Loss: 0.3465\n"
     ]
    }
   ],
   "source": [
    "model = None\n",
    "model = LSTMGenerator(vocab_size).to(device)\n",
    "criterion = nn.CrossEntropyLoss()\n",
    "optimizer = torch.optim.Adam(model.parameters(), lr=9e-4)\n",
    "\n",
    "n_epochs = 20\n",
    "\n",
    "for epoch in range(n_epochs):\n",
    "    model.train()\n",
    "    total_loss = 0\n",
    "    for batch_X, batch_y in dataloader:\n",
    "        batch_X, batch_y = batch_X.to(device), batch_y.to(device)\n",
    "\n",
    "        optimizer.zero_grad()\n",
    "        output, _ = model(batch_X)\n",
    "        loss = criterion(output, batch_y)\n",
    "        loss.backward()\n",
    "        optimizer.step()\n",
    "        total_loss += loss.item()\n",
    "\n",
    "    avg_loss = total_loss / len(dataloader)\n",
    "    print(f\"Epoch {epoch+1}/{n_epochs}, Loss: {avg_loss:.4f}\")\n"
   ]
  },
  {
   "cell_type": "code",
   "execution_count": 5,
   "id": "cd37c577-fe5c-45e3-b9b8-affd056a06c9",
   "metadata": {
    "scrolled": true
   },
   "outputs": [],
   "source": [
    "def get_random_seed(vocab_size, sequence_length):\n",
    "    return [random.randint(0, vocab_size - 1) for _ in range(sequence_length)]\n",
    "\n",
    "def generate_sequence(seed_sequence, idx_to_chord, sequence_length=32, generate_length=64):\n",
    "    \"\"\"\n",
    "    Generates a symbolic chord sequence using a trained LSTM model\n",
    "    Input:\n",
    "        seed_sequence (list of int): Initial chord indices (length >= sequence_length).\n",
    "        idx_to_chord (dict): Mapping from token index to chord tuple.\n",
    "        sequence_length (int): Number of tokens fed to the model at each step.\n",
    "        generate_length (int): Total number of new tokens to generate.\n",
    "    Returns:\n",
    "        list of tuple\n",
    "    \"\"\"\n",
    "    model.eval()\n",
    "    device = next(model.parameters()).device\n",
    "    generated = seed_sequence[:]\n",
    "    hidden = None\n",
    "\n",
    "    for _ in range(generate_length + sequence_length):\n",
    "        # Get the last `sequence_length` tokens as input\n",
    "        input_seq = generated[-sequence_length:]\n",
    "        input_tensor = torch.tensor(input_seq, dtype=torch.long).unsqueeze(0).to(device)\n",
    "\n",
    "        with torch.no_grad():\n",
    "            output, hidden = model(input_tensor, hidden)\n",
    "            output = output[0].cpu().numpy()\n",
    "            probabilities = torch.softmax(torch.tensor(output), dim=0).numpy()\n",
    "            next_token = int(np.random.choice(len(probabilities), p=probabilities))\n",
    "            generated.append(next_token)\n",
    "\n",
    "    #Removing the random seed in the start to avoid noisy output\n",
    "    cleaned = generated[sequence_length:]\n",
    "\n",
    "    #Converting to chords\n",
    "    return [idx_to_chord[idx] for idx in cleaned]\n",
    "\n",
    "\n",
    "#Generates random seed to start off with generation\n",
    "seed = get_random_seed(vocab_size, sequence_length)\n",
    "\n",
    "generated_chords = generate_sequence(\n",
    "    seed_sequence=seed,\n",
    "    idx_to_chord=idx_to_chord,\n",
    "    sequence_length=sequence_length,\n",
    "    generate_length=64\n",
    ")"
   ]
  },
  {
   "cell_type": "code",
   "execution_count": 6,
   "id": "6a30c8ca-112b-4a64-99bf-a0dc368d3410",
   "metadata": {},
   "outputs": [
    {
     "name": "stdout",
     "output_type": "stream",
     "text": [
      "MIDI file saved as generated_output2.mid\n"
     ]
    }
   ],
   "source": [
    "def chords_to_midi(chords, filename, seconds_per_chord=0.25):\n",
    "    \"\"\"\n",
    "    Converts a sequence of chords to MIDI file. The default program of Acoustic Grand Piano is used here for instrument.\n",
    "    Input:\n",
    "        chords (list of tuples)\n",
    "        filename (str)\n",
    "        seconds_per_chord (float)\n",
    "    \"\"\"\n",
    "    midi = pretty_midi.PrettyMIDI()\n",
    "    instrument = pretty_midi.Instrument(program=0)\n",
    "\n",
    "    start_time = 0\n",
    "    for chord in chords:\n",
    "        end_time = start_time + seconds_per_chord\n",
    "        for pitch in chord:\n",
    "            \n",
    "            note = pretty_midi.Note(\n",
    "                velocity=100, pitch=int(pitch), start=start_time, end=end_time\n",
    "            )\n",
    "            instrument.notes.append(note)\n",
    "        start_time = end_time\n",
    "\n",
    "    midi.instruments.append(instrument)\n",
    "    midi.write(filename)\n",
    "    print(f\"MIDI file saved as {filename}\")\n",
    "\n",
    "\n",
    "# Assuming `generated_chords` is your list of chord tuples from generate_sequence()\n",
    "\n",
    "filename = \"midifiles/symbolic_unconditioned.mid\"\n",
    "chords_to_midi(generated_chords, filename=filename, seconds_per_chord=0.25)\n"
   ]
  }
 ],
 "metadata": {
  "kernelspec": {
   "display_name": "Python 3 (ipykernel)",
   "language": "python",
   "name": "python3"
  },
  "language_info": {
   "codemirror_mode": {
    "name": "ipython",
    "version": 3
   },
   "file_extension": ".py",
   "mimetype": "text/x-python",
   "name": "python",
   "nbconvert_exporter": "python",
   "pygments_lexer": "ipython3",
   "version": "3.11.9"
  }
 },
 "nbformat": 4,
 "nbformat_minor": 5
}
